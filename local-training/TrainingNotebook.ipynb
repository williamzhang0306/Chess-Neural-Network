{
 "cells": [
  {
   "cell_type": "code",
   "execution_count": 1,
   "metadata": {},
   "outputs": [],
   "source": [
    "from keras import layers, models, losses, regularizers, initializers, optimizers, callbacks\n",
    "from MyDataHandler import DataGenerator\n",
    "import pandas as pd\n",
    "import matplotlib.pyplot as plt"
   ]
  },
  {
   "attachments": {},
   "cell_type": "markdown",
   "metadata": {},
   "source": [
    "Setting up training and testing data sets\n",
    "\n",
    "Partition index is used to decide the training/testing split. Currently set to 80/20"
   ]
  },
  {
   "cell_type": "code",
   "execution_count": 3,
   "metadata": {},
   "outputs": [],
   "source": [
    "data = pd.read_csv('../data/chessData.csv')\n",
    "\n",
    "parition_index = int( len(data) * 0.8 )\n",
    "\n",
    "partitioned_IDs = {\n",
    "    'training' : [i for i in range(0, 500000)],\n",
    "    'testing' : [i for i in range(500000, 600000)]\n",
    "}\n",
    "\n",
    "params = {\n",
    "    'data_frame' : data,\n",
    "    'batch_size' : 128, \n",
    "    'x_dim' : (8,8,12),\n",
    "    'y_dim' : (1,1),\n",
    "    'output_type' : 'normalized'\n",
    "}\n",
    "\n",
    "training_data = DataGenerator(IDs = partitioned_IDs['training'], **params)\n",
    "testing_data = DataGenerator( IDs = partitioned_IDs['testing'], **params)"
   ]
  },
  {
   "cell_type": "code",
   "execution_count": 4,
   "metadata": {},
   "outputs": [
    {
     "name": "stdout",
     "output_type": "stream",
     "text": [
      "                                                        FEN Evaluation\n",
      "0         rnbqkbnr/pppppppp/8/8/4P3/8/PPPP1PPP/RNBQKBNR ...        -10\n",
      "1         rnbqkbnr/pppp1ppp/4p3/8/4P3/8/PPPP1PPP/RNBQKBN...        +56\n",
      "2         rnbqkbnr/pppp1ppp/4p3/8/3PP3/8/PPP2PPP/RNBQKBN...         -9\n",
      "3         rnbqkbnr/ppp2ppp/4p3/3p4/3PP3/8/PPP2PPP/RNBQKB...        +52\n",
      "4         rnbqkbnr/ppp2ppp/4p3/3p4/3PP3/8/PPPN1PPP/R1BQK...        -26\n",
      "...                                                     ...        ...\n",
      "12958030  r1bqkb1r/pp3ppp/1nn1p3/3pP3/3P1P2/1B3N2/PP2Q1P...         +6\n",
      "12958031  r2qkb1r/pp1b1ppp/1nn1p3/3pP3/3P1P2/1B3N2/PP2Q1...        +84\n",
      "12958032  r2qkb1r/pp1b1ppp/1nn1p3/3pP3/3P1P2/1BN2N2/PP2Q...          0\n",
      "12958033  r2qkb1r/pp1b1ppp/1n2p3/n2pP3/3P1P2/1BN2N2/PP2Q...       +115\n",
      "12958034  r2qkb1r/pp1b1ppp/1n2p3/n2pP3/3P1P2/2N2N2/PPB1Q...        +45\n",
      "\n",
      "[12958035 rows x 2 columns]\n"
     ]
    }
   ],
   "source": [
    "print(data)"
   ]
  },
  {
   "attachments": {},
   "cell_type": "markdown",
   "metadata": {},
   "source": [
    "Multilayer perceptron model - very similar paramters to the model used by Sabatelli et al."
   ]
  },
  {
   "cell_type": "code",
   "execution_count": 5,
   "metadata": {},
   "outputs": [
    {
     "name": "stdout",
     "output_type": "stream",
     "text": [
      "Model: \"sequential\"\n",
      "_________________________________________________________________\n",
      " Layer (type)                Output Shape              Param #   \n",
      "=================================================================\n",
      " flatten (Flatten)           (None, 768)               0         \n",
      "                                                                 \n",
      " dense (Dense)               (None, 2048)              1574912   \n",
      "                                                                 \n",
      " dropout (Dropout)           (None, 2048)              0         \n",
      "                                                                 \n",
      " dense_1 (Dense)             (None, 2048)              4196352   \n",
      "                                                                 \n",
      " dropout_1 (Dropout)         (None, 2048)              0         \n",
      "                                                                 \n",
      " dense_2 (Dense)             (None, 1050)              2151450   \n",
      "                                                                 \n",
      " dropout_2 (Dropout)         (None, 1050)              0         \n",
      "                                                                 \n",
      " flatten_1 (Flatten)         (None, 1050)              0         \n",
      "                                                                 \n",
      " dense_3 (Dense)             (None, 1)                 1051      \n",
      "                                                                 \n",
      "=================================================================\n",
      "Total params: 7,923,765\n",
      "Trainable params: 7,923,765\n",
      "Non-trainable params: 0\n",
      "_________________________________________________________________\n"
     ]
    },
    {
     "name": "stderr",
     "output_type": "stream",
     "text": [
      "2022-12-19 18:57:18.607975: I tensorflow/core/platform/cpu_feature_guard.cc:193] This TensorFlow binary is optimized with oneAPI Deep Neural Network Library (oneDNN) to use the following CPU instructions in performance-critical operations:  SSE4.1 SSE4.2\n",
      "To enable them in other operations, rebuild TensorFlow with the appropriate compiler flags.\n"
     ]
    }
   ],
   "source": [
    "model = models.Sequential()\n",
    "model.add(layers.InputLayer( input_shape = (8,8,12)))\n",
    "model.add(layers.Flatten())\n",
    "model.add(layers.Dense(2048, activation = 'linear'))\n",
    "model.add(layers.Dropout(0.2))\n",
    "model.add(layers.Dense(2048,activation= 'linear'))\n",
    "model.add(layers.Dropout(0.2))\n",
    "model.add(layers.Dense(2048,activation= 'linear'))\n",
    "model.add(layers.Dropout(0.2))\n",
    "model.add(layers.Flatten())\n",
    "model.add(layers.Dense(1,activation='sigmoid'))\n",
    "model.summary()"
   ]
  },
  {
   "attachments": {},
   "cell_type": "markdown",
   "metadata": {},
   "source": [
    "Training"
   ]
  },
  {
   "cell_type": "code",
   "execution_count": 7,
   "metadata": {},
   "outputs": [
    {
     "name": "stdout",
     "output_type": "stream",
     "text": [
      "Epoch 1/50\n"
     ]
    }
   ],
   "source": [
    "# training paramters used by Sabatelli et al.\n",
    "# model.compile(\n",
    "#     optimizer=optimizers.Adam(learning_rate=0.001, beta_1=0.90, beta_2=0.99, epsilon= 1.91828183), \n",
    "#     loss = losses.mean_squared_error, \n",
    "#     metrics=['mean_absolute_error'])\n",
    "\n",
    "model.compile(optimizer = \"adam\", \n",
    "              loss = losses.MeanSquaredError(), \n",
    "              metrics=['mean_absolute_error']\n",
    "              )\n",
    "es = callbacks.EarlyStopping(monitor='loss', mode='min', verbose=1, patience = 5)\n",
    "\n",
    "history = model.fit(training_data, \n",
    "                    epochs=50, \n",
    "                    validation_data=(testing_data), \n",
    "                    workers = 4,\n",
    "                    use_multiprocessing=True,\n",
    "                    callbacks= [es])\n",
    "\n",
    "model.save('Model_12_12_18_22')"
   ]
  },
  {
   "attachments": {},
   "cell_type": "markdown",
   "metadata": {},
   "source": [
    "Visualization"
   ]
  },
  {
   "cell_type": "code",
   "execution_count": null,
   "metadata": {},
   "outputs": [],
   "source": [
    "plt.plot(history.history['accuracy'], label='accuracy')\n",
    "plt.plot(history.history['val_accuracy'], label = 'val_accuracy')\n",
    "plt.xlabel('Epoch')\n",
    "plt.ylabel('Accuracy')\n",
    "plt.legend(loc='lower right')\n",
    "\n",
    "plt.show()"
   ]
  }
 ],
 "metadata": {
  "kernelspec": {
   "display_name": "Chess",
   "language": "python",
   "name": "python3"
  },
  "language_info": {
   "codemirror_mode": {
    "name": "ipython",
    "version": 3
   },
   "file_extension": ".py",
   "mimetype": "text/x-python",
   "name": "python",
   "nbconvert_exporter": "python",
   "pygments_lexer": "ipython3",
   "version": "3.10.8"
  },
  "orig_nbformat": 4,
  "vscode": {
   "interpreter": {
    "hash": "1b582bce3cde884cfc8b2a63f3d4d7f71afa74f81d043765134e88204df8fb0f"
   }
  }
 },
 "nbformat": 4,
 "nbformat_minor": 2
}
